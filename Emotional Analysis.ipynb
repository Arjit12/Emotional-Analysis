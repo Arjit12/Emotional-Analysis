{
 "cells": [
  {
   "cell_type": "code",
   "execution_count": 1,
   "id": "768693bc",
   "metadata": {},
   "outputs": [],
   "source": [
    "import pandas as pd\n",
    "import numpy as np\n",
    "import tensorflow as tf\n",
    "import matplotlib.pyplot as plt\n",
    "import seaborn as sns\n",
    "\n",
    "# text preprocessing\n",
    "from nltk.tokenize import word_tokenize\n",
    "import re\n",
    "\n",
    "# plots and metrics\n",
    "import matplotlib.pyplot as plt\n",
    "from sklearn.metrics import accuracy_score, f1_score, confusion_matrix\n",
    "\n",
    "# preparing input to our model\n",
    "from keras.preprocessing.text import Tokenizer\n",
    "from keras.preprocessing.sequence import pad_sequences\n",
    "from keras.utils.np_utils import to_categorical\n",
    "\n",
    "# keras layers\n",
    "from keras.models import Sequential\n",
    "from keras.layers import Embedding, Bidirectional, LSTM, GRU, Dense"
   ]
  },
  {
   "cell_type": "code",
   "execution_count": 2,
   "id": "a7370c49",
   "metadata": {},
   "outputs": [],
   "source": [
    "data_train = pd.read_csv(r\"D:\\emotion analysis\\emotion_model-main\\emotion_model-main\\data_train.csv\")\n",
    "data_test = pd.read_csv(r\"D:\\emotion analysis\\emotion_model-main\\emotion_model-main\\data_test.csv\")"
   ]
  },
  {
   "cell_type": "code",
   "execution_count": 3,
   "id": "c46da965",
   "metadata": {},
   "outputs": [
    {
     "data": {
      "text/html": [
       "<div>\n",
       "<style scoped>\n",
       "    .dataframe tbody tr th:only-of-type {\n",
       "        vertical-align: middle;\n",
       "    }\n",
       "\n",
       "    .dataframe tbody tr th {\n",
       "        vertical-align: top;\n",
       "    }\n",
       "\n",
       "    .dataframe thead th {\n",
       "        text-align: right;\n",
       "    }\n",
       "</style>\n",
       "<table border=\"1\" class=\"dataframe\">\n",
       "  <thead>\n",
       "    <tr style=\"text-align: right;\">\n",
       "      <th></th>\n",
       "      <th>Emotion</th>\n",
       "      <th>Text</th>\n",
       "    </tr>\n",
       "  </thead>\n",
       "  <tbody>\n",
       "    <tr>\n",
       "      <th>0</th>\n",
       "      <td>neutral</td>\n",
       "      <td>There are tons of other paintings that I thin...</td>\n",
       "    </tr>\n",
       "    <tr>\n",
       "      <th>1</th>\n",
       "      <td>sadness</td>\n",
       "      <td>Yet the dog had grown old and less capable , a...</td>\n",
       "    </tr>\n",
       "    <tr>\n",
       "      <th>2</th>\n",
       "      <td>fear</td>\n",
       "      <td>When I get into the tube or the train without ...</td>\n",
       "    </tr>\n",
       "    <tr>\n",
       "      <th>3</th>\n",
       "      <td>fear</td>\n",
       "      <td>This last may be a source of considerable disq...</td>\n",
       "    </tr>\n",
       "    <tr>\n",
       "      <th>4</th>\n",
       "      <td>anger</td>\n",
       "      <td>She disliked the intimacy he showed towards so...</td>\n",
       "    </tr>\n",
       "  </tbody>\n",
       "</table>\n",
       "</div>"
      ],
      "text/plain": [
       "   Emotion                                               Text\n",
       "0  neutral   There are tons of other paintings that I thin...\n",
       "1  sadness  Yet the dog had grown old and less capable , a...\n",
       "2     fear  When I get into the tube or the train without ...\n",
       "3     fear  This last may be a source of considerable disq...\n",
       "4    anger  She disliked the intimacy he showed towards so..."
      ]
     },
     "execution_count": 3,
     "metadata": {},
     "output_type": "execute_result"
    }
   ],
   "source": [
    "data_train.head()"
   ]
  },
  {
   "cell_type": "code",
   "execution_count": 4,
   "id": "f50f5234",
   "metadata": {},
   "outputs": [
    {
     "data": {
      "text/plain": [
       "(7934, 3393)"
      ]
     },
     "execution_count": 4,
     "metadata": {},
     "output_type": "execute_result"
    }
   ],
   "source": [
    "len(data_train), len(data_test)"
   ]
  },
  {
   "cell_type": "code",
   "execution_count": 5,
   "id": "59317412",
   "metadata": {},
   "outputs": [
    {
     "name": "stdout",
     "output_type": "stream",
     "text": [
      "<class 'pandas.core.frame.DataFrame'>\n",
      "RangeIndex: 7934 entries, 0 to 7933\n",
      "Data columns (total 2 columns):\n",
      " #   Column   Non-Null Count  Dtype \n",
      "---  ------   --------------  ----- \n",
      " 0   Emotion  7934 non-null   object\n",
      " 1   Text     7934 non-null   object\n",
      "dtypes: object(2)\n",
      "memory usage: 124.1+ KB\n",
      "<class 'pandas.core.frame.DataFrame'>\n",
      "RangeIndex: 3393 entries, 0 to 3392\n",
      "Data columns (total 2 columns):\n",
      " #   Column   Non-Null Count  Dtype \n",
      "---  ------   --------------  ----- \n",
      " 0   Emotion  3393 non-null   object\n",
      " 1   Text     3393 non-null   object\n",
      "dtypes: object(2)\n",
      "memory usage: 53.1+ KB\n"
     ]
    },
    {
     "data": {
      "text/plain": [
       "(None, None)"
      ]
     },
     "execution_count": 5,
     "metadata": {},
     "output_type": "execute_result"
    }
   ],
   "source": [
    "data_train.info(), data_test.info()"
   ]
  },
  {
   "cell_type": "code",
   "execution_count": 6,
   "id": "44d704ef",
   "metadata": {},
   "outputs": [
    {
     "data": {
      "text/plain": [
       "<AxesSubplot:xlabel='Emotion', ylabel='count'>"
      ]
     },
     "execution_count": 6,
     "metadata": {},
     "output_type": "execute_result"
    },
    {
     "data": {
      "image/png": "[encoded data removed]",
      "text/plain": [
       "<Figure size 432x288 with 1 Axes>"
      ]
     },
     "metadata": {
      "needs_background": "light"
     },
     "output_type": "display_data"
    }
   ],
   "source": [
    "import matplotlib.pyplot as plt\n",
    "import seaborn as sns\n",
    "sns.countplot(data=data_test, x= 'Emotion' ) \n",
    " "
   ]
  },
  {
   "cell_type": "code",
   "execution_count": 7,
   "id": "5765d988",
   "metadata": {},
   "outputs": [
    {
     "data": {
      "text/plain": [
       "<AxesSubplot:xlabel='Emotion', ylabel='count'>"
      ]
     },
     "execution_count": 7,
     "metadata": {},
     "output_type": "execute_result"
    },
    {
     "data": {
      "image/png": "[encoded data removed]",
      "text/plain": [
       "<Figure size 432x288 with 1 Axes>"
      ]
     },
     "metadata": {
      "needs_background": "light"
     },
     "output_type": "display_data"
    }
   ],
   "source": [
    "sns.countplot(data=data_train, x= 'Emotion' )"
   ]
  },
  {
   "cell_type": "code",
   "execution_count": 8,
   "id": "8eac09ad",
   "metadata": {},
   "outputs": [],
   "source": [
    "X_train = data_train['Text']\n",
    "X_test = data_test['Text']"
   ]
  },
  {
   "cell_type": "code",
   "execution_count": 9,
   "id": "18b52972",
   "metadata": {},
   "outputs": [],
   "source": [
    "y_train = data_train['Emotion']\n",
    "y_test = data_test['Emotion']"
   ]
  },
  {
   "cell_type": "code",
   "execution_count": 10,
   "id": "6c511e71",
   "metadata": {},
   "outputs": [],
   "source": [
    "data = data_train.append(data_test, ignore_index = True)"
   ]
  },
  {
   "cell_type": "code",
   "execution_count": 11,
   "id": "9942ac4b",
   "metadata": {},
   "outputs": [
    {
     "data": {
      "text/html": [
       "<div>\n",
       "<style scoped>\n",
       "    .dataframe tbody tr th:only-of-type {\n",
       "        vertical-align: middle;\n",
       "    }\n",
       "\n",
       "    .dataframe tbody tr th {\n",
       "        vertical-align: top;\n",
       "    }\n",
       "\n",
       "    .dataframe thead th {\n",
       "        text-align: right;\n",
       "    }\n",
       "</style>\n",
       "<table border=\"1\" class=\"dataframe\">\n",
       "  <thead>\n",
       "    <tr style=\"text-align: right;\">\n",
       "      <th></th>\n",
       "      <th>Emotion</th>\n",
       "      <th>Text</th>\n",
       "    </tr>\n",
       "  </thead>\n",
       "  <tbody>\n",
       "    <tr>\n",
       "      <th>0</th>\n",
       "      <td>neutral</td>\n",
       "      <td>There are tons of other paintings that I thin...</td>\n",
       "    </tr>\n",
       "    <tr>\n",
       "      <th>1</th>\n",
       "      <td>sadness</td>\n",
       "      <td>Yet the dog had grown old and less capable , a...</td>\n",
       "    </tr>\n",
       "    <tr>\n",
       "      <th>2</th>\n",
       "      <td>fear</td>\n",
       "      <td>When I get into the tube or the train without ...</td>\n",
       "    </tr>\n",
       "    <tr>\n",
       "      <th>3</th>\n",
       "      <td>fear</td>\n",
       "      <td>This last may be a source of considerable disq...</td>\n",
       "    </tr>\n",
       "    <tr>\n",
       "      <th>4</th>\n",
       "      <td>anger</td>\n",
       "      <td>She disliked the intimacy he showed towards so...</td>\n",
       "    </tr>\n",
       "    <tr>\n",
       "      <th>...</th>\n",
       "      <td>...</td>\n",
       "      <td>...</td>\n",
       "    </tr>\n",
       "    <tr>\n",
       "      <th>11322</th>\n",
       "      <td>sadness</td>\n",
       "      <td>My sweetheart left me, or rather we decided to...</td>\n",
       "    </tr>\n",
       "    <tr>\n",
       "      <th>11323</th>\n",
       "      <td>sadness</td>\n",
       "      <td>Well , it's too bad that we like different kin...</td>\n",
       "    </tr>\n",
       "    <tr>\n",
       "      <th>11324</th>\n",
       "      <td>neutral</td>\n",
       "      <td>It sure is .</td>\n",
       "    </tr>\n",
       "    <tr>\n",
       "      <th>11325</th>\n",
       "      <td>sadness</td>\n",
       "      <td>He ’ s got laid off again . I do feel sorry fo...</td>\n",
       "    </tr>\n",
       "    <tr>\n",
       "      <th>11326</th>\n",
       "      <td>anger</td>\n",
       "      <td>When stupid people push me during rush time in...</td>\n",
       "    </tr>\n",
       "  </tbody>\n",
       "</table>\n",
       "<p>11327 rows × 2 columns</p>\n",
       "</div>"
      ],
      "text/plain": [
       "       Emotion                                               Text\n",
       "0      neutral   There are tons of other paintings that I thin...\n",
       "1      sadness  Yet the dog had grown old and less capable , a...\n",
       "2         fear  When I get into the tube or the train without ...\n",
       "3         fear  This last may be a source of considerable disq...\n",
       "4        anger  She disliked the intimacy he showed towards so...\n",
       "...        ...                                                ...\n",
       "11322  sadness  My sweetheart left me, or rather we decided to...\n",
       "11323  sadness  Well , it's too bad that we like different kin...\n",
       "11324  neutral                                      It sure is . \n",
       "11325  sadness  He ’ s got laid off again . I do feel sorry fo...\n",
       "11326    anger  When stupid people push me during rush time in...\n",
       "\n",
       "[11327 rows x 2 columns]"
      ]
     },
     "execution_count": 11,
     "metadata": {},
     "output_type": "execute_result"
    }
   ],
   "source": [
    "data"
   ]
  },
  {
   "cell_type": "code",
   "execution_count": 12,
   "id": "0fc4fd9a",
   "metadata": {},
   "outputs": [
    {
     "data": {
      "text/plain": [
       "Index(['Emotion', 'Text'], dtype='object')"
      ]
     },
     "execution_count": 12,
     "metadata": {},
     "output_type": "execute_result"
    }
   ],
   "source": [
    "data.columns"
   ]
  },
  {
   "cell_type": "code",
   "execution_count": 13,
   "id": "bdce260f",
   "metadata": {},
   "outputs": [
    {
     "data": {
      "text/plain": [
       "(11327, 2)"
      ]
     },
     "execution_count": 13,
     "metadata": {},
     "output_type": "execute_result"
    }
   ],
   "source": [
    "data.shape"
   ]
  },
  {
   "cell_type": "code",
   "execution_count": 14,
   "id": "508e5c53",
   "metadata": {},
   "outputs": [
    {
     "data": {
      "text/plain": [
       "<AxesSubplot:xlabel='Emotion', ylabel='count'>"
      ]
     },
     "execution_count": 14,
     "metadata": {},
     "output_type": "execute_result"
    },
    {
     "data": {
      "image/png": "[encoded data removed]",
      "text/plain": [
       "<Figure size 432x288 with 1 Axes>"
      ]
     },
     "metadata": {
      "needs_background": "light"
     },
     "output_type": "display_data"
    }
   ],
   "source": [
    "sns.countplot(data = data, x= 'Emotion')"
   ]
  },
  {
   "cell_type": "code",
   "execution_count": 15,
   "id": "c7165d74",
   "metadata": {},
   "outputs": [
    {
     "data": {
      "image/png": "[encoded data removed]",
      "text/plain": [
       "<Figure size 864x576 with 2 Axes>"
      ]
     },
     "metadata": {
      "needs_background": "light"
     },
     "output_type": "display_data"
    }
   ],
   "source": [
    "fig, (ax1, ax2)  = plt.subplots(nrows=1, ncols=2, figsize=(12,8))\n",
    "explode = list((np.array(list(data[\"Emotion\"].dropna().value_counts()))/sum(list(data[\"Emotion\"].dropna().value_counts())))[::-1])[:]\n",
    "labels = list(data[\"Emotion\"].dropna().unique())[:]\n",
    "sizes = data[\"Emotion\"].value_counts()[:]\n",
    "\n",
    "ax2.pie(sizes,  explode=explode, startangle=60, labels=labels, autopct='%1.0f%%', pctdistance=0.8)\n",
    "ax2.add_artist(plt.Circle((0,0),0.4,fc='white'))\n",
    "sns.countplot(y=\"Emotion\", data= data, ax=ax1)\n",
    "ax1.set_title(\"Count of each emotion\")\n",
    "ax2.set_title(\"Percentage of each emotion\")\n",
    "plt.show()"
   ]
  },
  {
   "cell_type": "code",
   "execution_count": 16,
   "id": "ad3473ca",
   "metadata": {},
   "outputs": [],
   "source": [
    "num_classes = 5\n",
    "\n",
    "embed_num_dims = 300\n",
    "\n",
    "max_seq_len = 500\n",
    "\n",
    "class_names = ['joy', 'fear', 'anger', 'sadness', 'neutral']"
   ]
  },
  {
   "cell_type": "code",
   "execution_count": 17,
   "id": "99df7080",
   "metadata": {},
   "outputs": [],
   "source": [
    "def clean_text(data):\n",
    "    data = re.sub(r\"(#[\\d\\w\\.]+)\", '', data)\n",
    "    data = re.sub(r\"(@[\\d\\w\\.]+)\", '', data)\n",
    "    data = word_tokenize(data)\n",
    "    return data"
   ]
  },
  {
   "cell_type": "code",
   "execution_count": 18,
   "id": "2454ca18",
   "metadata": {},
   "outputs": [
    {
     "name": "stderr",
     "output_type": "stream",
     "text": [
      "[nltk_data] Downloading package punkt to C:\\Users\\Arjit\n",
      "[nltk_data]     Giri\\AppData\\Roaming\\nltk_data...\n",
      "[nltk_data]   Package punkt is already up-to-date!\n"
     ]
    },
    {
     "data": {
      "text/plain": [
       "True"
      ]
     },
     "execution_count": 18,
     "metadata": {},
     "output_type": "execute_result"
    }
   ],
   "source": [
    "import nltk\n",
    "nltk.download('punkt')"
   ]
  },
  {
   "cell_type": "code",
   "execution_count": 19,
   "id": "e62a157d",
   "metadata": {},
   "outputs": [],
   "source": [
    "texts = [' '.join(clean_text(text)) for text in data.Text]\n",
    "\n",
    "texts_train = [' '.join(clean_text(text)) for text in X_train]\n",
    "texts_test = [' '.join(clean_text(text)) for text in X_test]"
   ]
  },
  {
   "cell_type": "code",
   "execution_count": 20,
   "id": "47da9d08",
   "metadata": {},
   "outputs": [
    {
     "name": "stdout",
     "output_type": "stream",
     "text": [
      "Number of unique words: 12087\n"
     ]
    },
    {
     "data": {
      "text/plain": [
       "array([[    0,     0,     0, ...,   119,    51,   345],\n",
       "       [    0,     0,     0, ...,    37,   277,   154],\n",
       "       [    0,     0,     0, ...,    16,     2,  1210],\n",
       "       ...,\n",
       "       [    0,     0,     0, ...,   876,     4,   909],\n",
       "       [    0,     0,     0, ...,     1,     6,   117],\n",
       "       [    0,     0,     0, ..., 10258,   173,    13]])"
      ]
     },
     "execution_count": 20,
     "metadata": {},
     "output_type": "execute_result"
    }
   ],
   "source": [
    "tokenizer = Tokenizer()\n",
    "tokenizer.fit_on_texts(texts)\n",
    "\n",
    "sequence_train = tokenizer.texts_to_sequences(texts_train)\n",
    "sequence_test = tokenizer.texts_to_sequences(texts_test)\n",
    "\n",
    "index_of_words = tokenizer.word_index\n",
    "\n",
    "# vacab size is number of unique words + reserved 0 index for padding\n",
    "vocab_size = len(index_of_words) + 1\n",
    "\n",
    "print('Number of unique words: {}'.format(len(index_of_words)))\n",
    "\n",
    "X_train_pad = pad_sequences(sequence_train, maxlen = max_seq_len )\n",
    "X_test_pad = pad_sequences(sequence_test, maxlen = max_seq_len )\n",
    "\n",
    "X_train_pad"
   ]
  },
  {
   "cell_type": "code",
   "execution_count": 21,
   "id": "a72e0a36",
   "metadata": {},
   "outputs": [],
   "source": [
    "encoding = {\n",
    "    'joy': 0,\n",
    "    'fear': 1,\n",
    "    'anger': 2,\n",
    "    'sadness': 3,\n",
    "    'neutral': 4\n",
    "}\n",
    "\n",
    "# Integer labels\n",
    "y_train = [encoding[x] for x in data_train.Emotion]\n",
    "y_test = [encoding[x] for x in data_test.Emotion]"
   ]
  },
  {
   "cell_type": "code",
   "execution_count": 22,
   "id": "9f454222",
   "metadata": {},
   "outputs": [
    {
     "data": {
      "text/plain": [
       "array([[0., 0., 0., 0., 1.],\n",
       "       [0., 0., 0., 1., 0.],\n",
       "       [0., 1., 0., 0., 0.],\n",
       "       ...,\n",
       "       [0., 0., 0., 1., 0.],\n",
       "       [0., 1., 0., 0., 0.],\n",
       "       [0., 0., 1., 0., 0.]], dtype=float32)"
      ]
     },
     "execution_count": 22,
     "metadata": {},
     "output_type": "execute_result"
    }
   ],
   "source": [
    "y_train = to_categorical(y_train)\n",
    "y_test = to_categorical(y_test)\n",
    "\n",
    "y_train"
   ]
  },
  {
   "cell_type": "code",
   "execution_count": 23,
   "id": "a3bdccf8",
   "metadata": {},
   "outputs": [],
   "source": [
    " #import pretained word vectors"
   ]
  },
  {
   "cell_type": "code",
   "execution_count": 28,
   "id": "b8c97cee",
   "metadata": {},
   "outputs": [],
   "source": [
    "def create_embedding_matrix(filepath, word_index, embedding_dim):\n",
    "    vocab_size = len(word_index) + 1\n",
    "    embedding_matrix = np.zeros((vocab_size, embedding_dim))\n",
    "    with open(filepath, 'r', errors = 'ignore', encoding=\"utf8\") as f:\n",
    "        for line in f:\n",
    "            word, *vector = line.split()\n",
    "            if word in word_index:\n",
    "                idx = word_index[word]\n",
    "                embedding_matrix[idx] = np.array(\n",
    "                    vector, dtype= np.float32)[:embedding_dim]\n",
    "    return embedding_matrix"
   ]
  },
  {
   "cell_type": "code",
   "execution_count": 29,
   "id": "4fcc7535",
   "metadata": {},
   "outputs": [],
   "source": [
    "import urllib.request\n",
    "import zipfile\n",
    "import os\n",
    "\n",
    "fname = 'embeddings/wiki-news-300d-1M.vec'\n",
    "\n",
    "\n",
    "if not os.path.isfile(fname):\n",
    "    print('Downloading word vectors...')\n",
    "    urllib.request.urlretrieve('https://dl.fbaipublicfiles.com/fasttext/vectors-english/wiki-news-300d-1M.vec.zip',\n",
    "                              'wiki-news-300d-1M.vec.zip')\n",
    "    print('Unzipping...')\n",
    "    with zipfile.ZipFile('wiki-news-300d-1M.vec.zip', 'r') as zip_ref:\n",
    "        zip_ref.extractall('embeddings')\n",
    "    print('done.')\n",
    "    \n",
    "    os.remove('wiki-news-300d-1M.vec.zip')"
   ]
  },
  {
   "cell_type": "code",
   "execution_count": 30,
   "id": "07556c87",
   "metadata": {},
   "outputs": [
    {
     "data": {
      "text/plain": [
       "(12088, 300)"
      ]
     },
     "execution_count": 30,
     "metadata": {},
     "output_type": "execute_result"
    }
   ],
   "source": [
    "embedd_matrix = create_embedding_matrix(fname, index_of_words, embed_num_dims)\n",
    "embedd_matrix.shape"
   ]
  },
  {
   "cell_type": "code",
   "execution_count": 31,
   "id": "1842ec30",
   "metadata": {},
   "outputs": [],
   "source": [
    "embedd_layer = Embedding(vocab_size,\n",
    "                         embed_num_dims,\n",
    "                         input_length = max_seq_len,\n",
    "                         weights = [embedd_matrix],\n",
    "                         trainable=False)"
   ]
  },
  {
   "cell_type": "markdown",
   "id": "4f183653",
   "metadata": {},
   "source": [
    "MODEL PIPELINE\n"
   ]
  },
  {
   "cell_type": "code",
   "execution_count": 32,
   "id": "f050ca2e",
   "metadata": {},
   "outputs": [],
   "source": [
    "gru_output_size = 64\n",
    "bidirectional = True\n",
    "\n",
    "# Embedding Layer, LSTM or biLSTM, Dense, softmax\n",
    "model = Sequential()\n",
    "model.add(embedd_layer)\n",
    "\n",
    "if bidirectional:\n",
    "    model.add(Bidirectional(GRU(units=gru_output_size,\n",
    "                              dropout=0.2,\n",
    "                              recurrent_dropout=0.2)))\n",
    "else:\n",
    "     model.add(GRU(units=gru_output_size,\n",
    "                dropout=0.2, \n",
    "                recurrent_dropout=0.2))\n",
    "\n",
    "model.add(Dense(num_classes, activation='softmax'))"
   ]
  },
  {
   "cell_type": "code",
   "execution_count": 33,
   "id": "34fe394b",
   "metadata": {},
   "outputs": [
    {
     "name": "stdout",
     "output_type": "stream",
     "text": [
      "Model: \"sequential\"\n",
      "_________________________________________________________________\n",
      " Layer (type)                Output Shape              Param #   \n",
      "=================================================================\n",
      " embedding (Embedding)       (None, 500, 300)          3626400   \n",
      "                                                                 \n",
      " bidirectional (Bidirectiona  (None, 128)              140544    \n",
      " l)                                                              \n",
      "                                                                 \n",
      " dense (Dense)               (None, 5)                 645       \n",
      "                                                                 \n",
      "=================================================================\n",
      "Total params: 3,767,589\n",
      "Trainable params: 141,189\n",
      "Non-trainable params: 3,626,400\n",
      "_________________________________________________________________\n"
     ]
    }
   ],
   "source": [
    "model.compile(loss = 'categorical_crossentropy', optimizer = 'adam', metrics = ['accuracy'])\n",
    "model.summary()"
   ]
  },
  {
   "cell_type": "code",
   "execution_count": 34,
   "id": "a1592a97",
   "metadata": {},
   "outputs": [
    {
     "name": "stdout",
     "output_type": "stream",
     "text": [
      "You must install pydot (`pip install pydot`) and install graphviz (see instructions at https://graphviz.gitlab.io/download/) for plot_model/model_to_dot to work.\n"
     ]
    }
   ],
   "source": [
    "tf.keras.utils.plot_model(model, to_file=\"my_model.png\", show_shapes=True)"
   ]
  },
  {
   "cell_type": "code",
   "execution_count": 35,
   "id": "5a1e47f1",
   "metadata": {},
   "outputs": [
    {
     "name": "stdout",
     "output_type": "stream",
     "text": [
      "Epoch 1/25\n",
      "62/62 [==============================] - 472s 7s/step - loss: 1.4647 - accuracy: 0.3559 - val_loss: 1.3271 - val_accuracy: 0.4459\n",
      "Epoch 2/25\n",
      "62/62 [==============================] - 419s 7s/step - loss: 1.2233 - accuracy: 0.5050 - val_loss: 1.1236 - val_accuracy: 0.5479\n",
      "Epoch 3/25\n",
      "62/62 [==============================] - 434s 7s/step - loss: 1.0285 - accuracy: 0.6059 - val_loss: 0.9682 - val_accuracy: 0.6372\n",
      "Epoch 4/25\n",
      "62/62 [==============================] - 443s 7s/step - loss: 0.8775 - accuracy: 0.6739 - val_loss: 0.8614 - val_accuracy: 0.6885\n",
      "Epoch 5/25\n",
      "62/62 [==============================] - 433s 7s/step - loss: 0.8111 - accuracy: 0.7019 - val_loss: 0.8195 - val_accuracy: 0.7047\n",
      "Epoch 6/25\n",
      "62/62 [==============================] - 443s 7s/step - loss: 0.7704 - accuracy: 0.7212 - val_loss: 0.7871 - val_accuracy: 0.7118\n",
      "Epoch 7/25\n",
      "62/62 [==============================] - 453s 7s/step - loss: 0.7353 - accuracy: 0.7332 - val_loss: 0.7732 - val_accuracy: 0.7256\n",
      "Epoch 8/25\n",
      "62/62 [==============================] - 430s 7s/step - loss: 0.7184 - accuracy: 0.7462 - val_loss: 0.7590 - val_accuracy: 0.7265\n",
      "Epoch 9/25\n",
      "62/62 [==============================] - 377s 6s/step - loss: 0.6906 - accuracy: 0.7554 - val_loss: 0.7473 - val_accuracy: 0.7289\n",
      "Epoch 10/25\n",
      "62/62 [==============================] - 382s 6s/step - loss: 0.6742 - accuracy: 0.7607 - val_loss: 0.7437 - val_accuracy: 0.7365\n",
      "Epoch 11/25\n",
      "62/62 [==============================] - 430s 7s/step - loss: 0.6601 - accuracy: 0.7619 - val_loss: 0.7424 - val_accuracy: 0.7327\n",
      "Epoch 12/25\n",
      "62/62 [==============================] - 417s 7s/step - loss: 0.6476 - accuracy: 0.7646 - val_loss: 0.7362 - val_accuracy: 0.7383\n",
      "Epoch 13/25\n",
      "62/62 [==============================] - 388s 6s/step - loss: 0.6431 - accuracy: 0.7682 - val_loss: 0.7261 - val_accuracy: 0.7418\n",
      "Epoch 14/25\n",
      "62/62 [==============================] - 371s 6s/step - loss: 0.6135 - accuracy: 0.7843 - val_loss: 0.7392 - val_accuracy: 0.7303\n",
      "Epoch 15/25\n",
      "62/62 [==============================] - 370s 6s/step - loss: 0.6140 - accuracy: 0.7789 - val_loss: 0.7305 - val_accuracy: 0.7362\n",
      "Epoch 16/25\n",
      "62/62 [==============================] - 1644s 27s/step - loss: 0.5998 - accuracy: 0.7830 - val_loss: 0.7388 - val_accuracy: 0.7353\n",
      "Epoch 17/25\n",
      "62/62 [==============================] - 416s 7s/step - loss: 0.5888 - accuracy: 0.7889 - val_loss: 0.7232 - val_accuracy: 0.7401\n",
      "Epoch 18/25\n",
      "62/62 [==============================] - 413s 7s/step - loss: 0.5809 - accuracy: 0.7952 - val_loss: 0.7354 - val_accuracy: 0.7365\n",
      "Epoch 19/25\n",
      "62/62 [==============================] - 393s 6s/step - loss: 0.5745 - accuracy: 0.7978 - val_loss: 0.7237 - val_accuracy: 0.7445\n",
      "Epoch 20/25\n",
      "62/62 [==============================] - 1324s 22s/step - loss: 0.5627 - accuracy: 0.7949 - val_loss: 0.7160 - val_accuracy: 0.7442\n",
      "Epoch 21/25\n",
      "62/62 [==============================] - 422s 7s/step - loss: 0.5511 - accuracy: 0.8025 - val_loss: 0.7107 - val_accuracy: 0.7462\n",
      "Epoch 22/25\n",
      "62/62 [==============================] - 386s 6s/step - loss: 0.5364 - accuracy: 0.8147 - val_loss: 0.7232 - val_accuracy: 0.7459\n",
      "Epoch 23/25\n",
      "62/62 [==============================] - 393s 6s/step - loss: 0.5337 - accuracy: 0.8128 - val_loss: 0.7226 - val_accuracy: 0.7451\n",
      "Epoch 24/25\n",
      "62/62 [==============================] - 414s 7s/step - loss: 0.5234 - accuracy: 0.8152 - val_loss: 0.7199 - val_accuracy: 0.7471\n",
      "Epoch 25/25\n",
      "62/62 [==============================] - 416s 7s/step - loss: 0.5201 - accuracy: 0.8146 - val_loss: 0.7393 - val_accuracy: 0.7418\n"
     ]
    }
   ],
   "source": [
    "batch_size = 128\n",
    "epochs = 25\n",
    "\n",
    "hist = model.fit(X_train_pad, y_train, \n",
    "                 batch_size=batch_size,\n",
    "                 epochs=epochs,\n",
    "                 validation_data=(X_test_pad,y_test))"
   ]
  },
  {
   "cell_type": "code",
   "execution_count": 36,
   "id": "98a25460",
   "metadata": {},
   "outputs": [
    {
     "data": {
      "image/png": "[encoded data removed]",
      "text/plain": [
       "<Figure size 432x288 with 1 Axes>"
      ]
     },
     "metadata": {
      "needs_background": "light"
     },
     "output_type": "display_data"
    }
   ],
   "source": [
    "plt.plot(hist.history['accuracy'])\n",
    "plt.plot(hist.history['val_accuracy'])\n",
    "plt.title('model accuracy')\n",
    "plt.ylabel('accuracy')\n",
    "plt.xlabel('epoch')\n",
    "plt.legend(['train', 'validation'], loc='upper left')\n",
    "plt.show()"
   ]
  },
  {
   "cell_type": "code",
   "execution_count": 37,
   "id": "206dfdb1",
   "metadata": {},
   "outputs": [
    {
     "data": {
      "image/png": "[encoded data removed]",
      "text/plain": [
       "<Figure size 432x288 with 1 Axes>"
      ]
     },
     "metadata": {
      "needs_background": "light"
     },
     "output_type": "display_data"
    }
   ],
   "source": [
    "plt.plot(hist.history['loss'])\n",
    "plt.plot(hist.history['val_loss'])\n",
    "plt.title('model loss')\n",
    "plt.ylabel('loss')\n",
    "plt.xlabel('epoch')\n",
    "plt.legend(['train', 'validation'], loc='upper left')\n",
    "plt.show()"
   ]
  },
  {
   "cell_type": "code",
   "execution_count": 38,
   "id": "d94f31e8",
   "metadata": {},
   "outputs": [],
   "source": [
    "predictions = model.predict(X_test_pad)\n",
    "predictions = np.argmax(predictions, axis=1)\n",
    "predictions = [class_names[pred] for pred in predictions]"
   ]
  },
  {
   "cell_type": "code",
   "execution_count": 40,
   "id": "3cc15835",
   "metadata": {},
   "outputs": [
    {
     "name": "stdout",
     "output_type": "stream",
     "text": [
      "Accuracy: 74.18%\n",
      "\n",
      "F1 Score: 74.18\n"
     ]
    }
   ],
   "source": [
    "print(\"Accuracy: {:.2f}%\".format(accuracy_score(data_test.Emotion, predictions) * 100))\n",
    "print(\"\\nF1 Score: {:.2f}\".format(f1_score(data_test.Emotion, predictions, average='micro') * 100))"
   ]
  },
  {
   "cell_type": "code",
   "execution_count": 41,
   "id": "6f70e71a",
   "metadata": {},
   "outputs": [],
   "source": [
    "import time\n",
    "def review(message):\n",
    "  seq = tokenizer.texts_to_sequences(message)\n",
    "  padded = pad_sequences(seq, maxlen=max_seq_len)\n",
    "\n",
    "  start_time = time.time()\n",
    "  pred = model.predict(padded)\n",
    "\n",
    "  print('Message: ' + str(message))\n",
    "  print('predicted: {} ({:.2f} seconds)'.format(class_names[np.argmax(pred)], (time.time() - start_time)))"
   ]
  },
  {
   "cell_type": "code",
   "execution_count": 42,
   "id": "213e99bd",
   "metadata": {},
   "outputs": [
    {
     "name": "stdout",
     "output_type": "stream",
     "text": [
      "Message: My boyfriend didn't turn up after promising that he was coming.\n",
      "Predicted: sadness\n"
     ]
    }
   ],
   "source": [
    "print('Message: {}\\nPredicted: {}'.format(X_test[4], predictions[4]))"
   ]
  },
  {
   "cell_type": "code",
   "execution_count": 43,
   "id": "e8406dc0",
   "metadata": {},
   "outputs": [],
   "source": [
    "mes = ['There was a hairline scratch on the screen which is not clearly visible directly. When we tried contacting Amazon for the replacement, they asked us to connect to apple and when connected to apple, they asked to connect with Amazon. Blame game begins and we end up paying the price. Awfull service. I am going to tag on the social media both Amazon and apple. Such a big scam']\n"
   ]
  },
  {
   "cell_type": "code",
   "execution_count": 44,
   "id": "6694bf18",
   "metadata": {},
   "outputs": [
    {
     "name": "stdout",
     "output_type": "stream",
     "text": [
      "Message: ['There was a hairline scratch on the screen which is not clearly visible directly. When we tried contacting Amazon for the replacement, they asked us to connect to apple and when connected to apple, they asked to connect with Amazon. Blame game begins and we end up paying the price. Awfull service. I am going to tag on the social media both Amazon and apple. Such a big scam']\n",
      "predicted: neutral (2.84 seconds)\n"
     ]
    }
   ],
   "source": [
    "review(mes)"
   ]
  },
  {
   "cell_type": "code",
   "execution_count": 45,
   "id": "140e7b44",
   "metadata": {},
   "outputs": [],
   "source": [
    "mes = ['they all are being dumb and careless. i did not want to talk to then']"
   ]
  },
  {
   "cell_type": "code",
   "execution_count": 46,
   "id": "84353611",
   "metadata": {},
   "outputs": [
    {
     "name": "stdout",
     "output_type": "stream",
     "text": [
      "Message: ['they all are being dumb and careless. i did not want to talk to then']\n",
      "predicted: anger (2.77 seconds)\n"
     ]
    }
   ],
   "source": [
    "review(mes)"
   ]
  },
  {
   "cell_type": "code",
   "execution_count": 52,
   "id": "a54e5185",
   "metadata": {},
   "outputs": [
    {
     "name": "stdout",
     "output_type": "stream",
     "text": [
      "Message: ['i am poor and i cant afford it lmao xdxdxdxdxd so if you have money to flex buy it i am bored thats why i am writing this review while drinking coffee i have my chemistry exam on manday and cant study mole concept and got bored thats why i came here to write this review if you read this review til here very good you justt wasted your time now go and do something productive :)']\n",
      "predicted: sadness (2.81 seconds)\n"
     ]
    }
   ],
   "source": [
    "review(message1)"
   ]
  },
  {
   "cell_type": "code",
   "execution_count": 53,
   "id": "d6a3628e",
   "metadata": {},
   "outputs": [
    {
     "name": "stdout",
     "output_type": "stream",
     "text": [
      "Message: ['Same as I phone 12 😑. Who so ever is reading this review I suggest go for I phone 12']\n",
      "predicted: fear (2.80 seconds)\n"
     ]
    }
   ],
   "source": [
    "message_3 = ['Same as I phone 12 😑. Who so ever is reading this review I suggest go for I phone 12'] \n",
    "review(message_3)"
   ]
  },
  {
   "cell_type": "code",
   "execution_count": 56,
   "id": "cade374a",
   "metadata": {},
   "outputs": [
    {
     "name": "stdout",
     "output_type": "stream",
     "text": [
      "Message: ['no one loves me i wanted to die']\n",
      "predicted: sadness (3.91 seconds)\n"
     ]
    }
   ],
   "source": [
    "message_5 = ['no one loves me i wanted to die'] \n",
    "review(message_5)"
   ]
  },
  {
   "cell_type": "code",
   "execution_count": null,
   "id": "fcc7a7ee",
   "metadata": {},
   "outputs": [],
   "source": []
  }
 ],
 "metadata": {
  "kernelspec": {
   "display_name": "Python 3 (ipykernel)",
   "language": "python",
   "name": "python3"
  },
  "language_info": {
   "codemirror_mode": {
    "name": "ipython",
    "version": 3
   },
   "file_extension": ".py",
   "mimetype": "text/x-python",
   "name": "python",
   "nbconvert_exporter": "python",
   "pygments_lexer": "ipython3",
   "version": "3.9.7"
  }
 },
 "nbformat": 4,
 "nbformat_minor": 5
}
